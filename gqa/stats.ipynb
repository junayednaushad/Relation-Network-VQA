{
 "metadata": {
  "language_info": {
   "codemirror_mode": {
    "name": "ipython",
    "version": 3
   },
   "file_extension": ".py",
   "mimetype": "text/x-python",
   "name": "python",
   "nbconvert_exporter": "python",
   "pygments_lexer": "ipython3",
   "version": "3.8.10"
  },
  "orig_nbformat": 2,
  "kernelspec": {
   "name": "python3810jvsc74a57bd009f52ee7a952467dca892b93373b6309ebb097927f8fd6335fe208f68ffb13f3",
   "display_name": "Python 3.8.10 64-bit ('cs216': conda)"
  }
 },
 "nbformat": 4,
 "nbformat_minor": 2,
 "cells": [
  {
   "cell_type": "code",
   "execution_count": 13,
   "metadata": {},
   "outputs": [],
   "source": [
    "import os\n",
    "import json\n",
    "import numpy as np\n",
    "import pickle\n",
    "import re\n",
    "import torch"
   ]
  },
  {
   "source": [
    "### Questions"
   ],
   "cell_type": "markdown",
   "metadata": {}
  },
  {
   "cell_type": "code",
   "execution_count": 2,
   "metadata": {},
   "outputs": [],
   "source": [
    "with open('.\\\\data\\\\train_balanced_questions.json', 'r') as f:\n",
    "    train_q = json.load(f)"
   ]
  },
  {
   "cell_type": "code",
   "execution_count": 31,
   "metadata": {},
   "outputs": [
    {
     "output_type": "execute_result",
     "data": {
      "text/plain": [
       "['001', '001000003', '001000004', '001000018', '00100002']"
      ]
     },
     "metadata": {},
     "execution_count": 31
    }
   ],
   "source": [
    "qids = sorted(list(train_q.keys()))\n",
    "qids[:5]"
   ]
  },
  {
   "cell_type": "code",
   "execution_count": 5,
   "metadata": {},
   "outputs": [
    {
     "output_type": "execute_result",
     "data": {
      "text/plain": [
       "dict_keys(['semantic', 'entailed', 'equivalent', 'question', 'imageId', 'isBalanced', 'groups', 'answer', 'semanticStr', 'annotations', 'types', 'fullAnswer'])"
      ]
     },
     "metadata": {},
     "execution_count": 5
    }
   ],
   "source": [
    "train_q['02930152'].keys()"
   ]
  },
  {
   "cell_type": "code",
   "execution_count": 4,
   "metadata": {},
   "outputs": [
    {
     "output_type": "execute_result",
     "data": {
      "text/plain": [
       "{'semantic': [{'operation': 'select',\n",
       "   'dependencies': [],\n",
       "   'argument': 'sky (2486325)'},\n",
       "  {'operation': 'verify color', 'dependencies': [0], 'argument': 'dark'}],\n",
       " 'entailed': ['02930160',\n",
       "  '02930158',\n",
       "  '02930159',\n",
       "  '02930154',\n",
       "  '02930155',\n",
       "  '02930156',\n",
       "  '02930153'],\n",
       " 'equivalent': ['02930152'],\n",
       " 'question': 'Is the sky dark?',\n",
       " 'imageId': '2354786',\n",
       " 'isBalanced': True,\n",
       " 'groups': {'global': None, 'local': '06-sky_dark'},\n",
       " 'answer': 'yes',\n",
       " 'semanticStr': 'select: sky (2486325)->verify color: dark [0]',\n",
       " 'annotations': {'answer': {},\n",
       "  'question': {'2': '2486325'},\n",
       "  'fullAnswer': {'2': '2486325'}},\n",
       " 'types': {'detailed': 'verifyAttr',\n",
       "  'semantic': 'attr',\n",
       "  'structural': 'verify'},\n",
       " 'fullAnswer': 'Yes, the sky is dark.'}"
      ]
     },
     "metadata": {},
     "execution_count": 4
    }
   ],
   "source": [
    "train_q['02930152']"
   ]
  },
  {
   "source": [
    "### Scene Graphs"
   ],
   "cell_type": "markdown",
   "metadata": {}
  },
  {
   "cell_type": "code",
   "execution_count": 14,
   "metadata": {},
   "outputs": [
    {
     "output_type": "execute_result",
     "data": {
      "text/plain": [
       "set()"
      ]
     },
     "metadata": {},
     "execution_count": 14
    }
   ],
   "source": [
    "with open('.\\\\data\\\\train_sceneGraphs.json', 'r') as f:\n",
    "    train_sg = json.load(f)"
   ]
  },
  {
   "cell_type": "code",
   "execution_count": 8,
   "metadata": {},
   "outputs": [
    {
     "output_type": "execute_result",
     "data": {
      "text/plain": [
       "['2386621', '2373554', '2370799', '2370791', '2370790']"
      ]
     },
     "metadata": {},
     "execution_count": 8
    }
   ],
   "source": [
    "sg_ids = list(train_sg.keys())\n",
    "sg_ids[:5]"
   ]
  },
  {
   "cell_type": "code",
   "execution_count": 9,
   "metadata": {},
   "outputs": [
    {
     "output_type": "execute_result",
     "data": {
      "text/plain": [
       "dict_keys(['width', 'objects', 'height'])"
      ]
     },
     "metadata": {},
     "execution_count": 9
    }
   ],
   "source": [
    "train_sg['2386621'].keys()"
   ]
  },
  {
   "cell_type": "code",
   "execution_count": 30,
   "metadata": {},
   "outputs": [
    {
     "output_type": "execute_result",
     "data": {
      "text/plain": [
       "{'width': 500,\n",
       " 'objects': {'681267': {'name': 'banana',\n",
       "   'h': 34,\n",
       "   'relations': [{'object': '681262', 'name': 'to the left of'}],\n",
       "   'w': 64,\n",
       "   'attributes': ['small', 'yellow'],\n",
       "   'y': 55,\n",
       "   'x': 248},\n",
       "  '681265': {'name': 'spots',\n",
       "   'h': 16,\n",
       "   'relations': [],\n",
       "   'w': 26,\n",
       "   'attributes': [],\n",
       "   'y': 92,\n",
       "   'x': 245},\n",
       "  '681264': {'name': 'bananas',\n",
       "   'h': 50,\n",
       "   'relations': [{'object': '681259', 'name': 'to the left of'}],\n",
       "   'w': 49,\n",
       "   'attributes': ['small', 'yellow'],\n",
       "   'y': 32,\n",
       "   'x': 268},\n",
       "  '681263': {'name': 'picnic',\n",
       "   'h': 374,\n",
       "   'relations': [],\n",
       "   'w': 499,\n",
       "   'attributes': ['delicious'],\n",
       "   'y': 0,\n",
       "   'x': 0},\n",
       "  '681262': {'name': 'straw',\n",
       "   'h': 95,\n",
       "   'relations': [{'object': '681268', 'name': 'to the right of'},\n",
       "    {'object': '681267', 'name': 'to the right of'},\n",
       "    {'object': '681253', 'name': 'to the right of'}],\n",
       "   'w': 15,\n",
       "   'attributes': ['white', 'plastic'],\n",
       "   'y': 55,\n",
       "   'x': 402},\n",
       "  '681261': {'name': 'meat',\n",
       "   'h': 27,\n",
       "   'relations': [{'object': '681255', 'name': 'on'},\n",
       "    {'object': '681255', 'name': 'inside'}],\n",
       "   'w': 24,\n",
       "   'attributes': ['small', 'brown', 'delicious'],\n",
       "   'y': 123,\n",
       "   'x': 68},\n",
       "  '681260': {'name': 'rice',\n",
       "   'h': 57,\n",
       "   'relations': [{'object': '681255', 'name': 'on'},\n",
       "    {'object': '681258', 'name': 'to the left of'}],\n",
       "   'w': 93,\n",
       "   'attributes': ['piled', 'white'],\n",
       "   'y': 162,\n",
       "   'x': 57},\n",
       "  '681269': {'name': 'onions',\n",
       "   'h': 16,\n",
       "   'relations': [],\n",
       "   'w': 24,\n",
       "   'attributes': ['green'],\n",
       "   'y': 147,\n",
       "   'x': 90},\n",
       "  '681268': {'name': 'tablecloth',\n",
       "   'h': 374,\n",
       "   'relations': [{'object': '681262', 'name': 'to the left of'}],\n",
       "   'w': 396,\n",
       "   'attributes': ['white'],\n",
       "   'y': 0,\n",
       "   'x': 0},\n",
       "  '681258': {'name': 'bowl',\n",
       "   'h': 99,\n",
       "   'relations': [{'object': '681255', 'name': 'next to'},\n",
       "    {'object': '681257', 'name': 'of'},\n",
       "    {'object': '681255', 'name': 'near'},\n",
       "    {'object': '681256', 'name': 'to the right of'},\n",
       "    {'object': '681260', 'name': 'to the right of'},\n",
       "    {'object': '681255', 'name': 'to the right of'}],\n",
       "   'w': 115,\n",
       "   'attributes': ['full'],\n",
       "   'y': 184,\n",
       "   'x': 178},\n",
       "  '681259': {'name': 'plantains',\n",
       "   'h': 70,\n",
       "   'relations': [{'object': '681264', 'name': 'to the right of'}],\n",
       "   'w': 45,\n",
       "   'attributes': ['red'],\n",
       "   'y': 0,\n",
       "   'x': 346},\n",
       "  '681256': {'name': 'spoon',\n",
       "   'h': 65,\n",
       "   'relations': [{'object': '681255', 'name': 'on'},\n",
       "    {'object': '681257', 'name': 'to the left of'},\n",
       "    {'object': '681255', 'name': 'in'},\n",
       "    {'object': '681258', 'name': 'to the left of'}],\n",
       "   'w': 140,\n",
       "   'attributes': ['large', 'metal', 'silver'],\n",
       "   'y': 196,\n",
       "   'x': 0},\n",
       "  '681257': {'name': 'dish',\n",
       "   'h': 81,\n",
       "   'relations': [{'object': '681258', 'name': 'inside'},\n",
       "    {'object': '681256', 'name': 'to the right of'},\n",
       "    {'object': '681258', 'name': 'in'},\n",
       "    {'object': '681255', 'name': 'to the right of'}],\n",
       "   'w': 108,\n",
       "   'attributes': ['cream colored'],\n",
       "   'y': 199,\n",
       "   'x': 187},\n",
       "  '681254': {'name': 'meal',\n",
       "   'h': 111,\n",
       "   'relations': [],\n",
       "   'w': 130,\n",
       "   'attributes': [],\n",
       "   'y': 121,\n",
       "   'x': 58},\n",
       "  '681255': {'name': 'plate',\n",
       "   'h': 138,\n",
       "   'relations': [{'object': '681257', 'name': 'to the left of'},\n",
       "    {'object': '681254', 'name': 'of'},\n",
       "    {'object': '681254', 'name': 'with'},\n",
       "    {'object': '681258', 'name': 'near'},\n",
       "    {'object': '681258', 'name': 'to the left of'}],\n",
       "   'w': 176,\n",
       "   'attributes': ['white', 'full'],\n",
       "   'y': 111,\n",
       "   'x': 30},\n",
       "  '681253': {'name': 'banana',\n",
       "   'h': 30,\n",
       "   'relations': [{'object': '681262', 'name': 'to the left of'}],\n",
       "   'w': 73,\n",
       "   'attributes': ['small', 'yellow'],\n",
       "   'y': 87,\n",
       "   'x': 237}},\n",
       " 'height': 375}"
      ]
     },
     "metadata": {},
     "execution_count": 30
    }
   ],
   "source": [
    "train_sg['2386621']"
   ]
  },
  {
   "cell_type": "code",
   "execution_count": 13,
   "metadata": {},
   "outputs": [
    {
     "output_type": "execute_result",
     "data": {
      "text/plain": [
       "{'681267': {'name': 'banana',\n",
       "  'h': 34,\n",
       "  'relations': [{'object': '681262', 'name': 'to the left of'}],\n",
       "  'w': 64,\n",
       "  'attributes': ['small', 'yellow'],\n",
       "  'y': 55,\n",
       "  'x': 248},\n",
       " '681265': {'name': 'spots',\n",
       "  'h': 16,\n",
       "  'relations': [],\n",
       "  'w': 26,\n",
       "  'attributes': [],\n",
       "  'y': 92,\n",
       "  'x': 245},\n",
       " '681264': {'name': 'bananas',\n",
       "  'h': 50,\n",
       "  'relations': [{'object': '681259', 'name': 'to the left of'}],\n",
       "  'w': 49,\n",
       "  'attributes': ['small', 'yellow'],\n",
       "  'y': 32,\n",
       "  'x': 268},\n",
       " '681263': {'name': 'picnic',\n",
       "  'h': 374,\n",
       "  'relations': [],\n",
       "  'w': 499,\n",
       "  'attributes': ['delicious'],\n",
       "  'y': 0,\n",
       "  'x': 0},\n",
       " '681262': {'name': 'straw',\n",
       "  'h': 95,\n",
       "  'relations': [{'object': '681268', 'name': 'to the right of'},\n",
       "   {'object': '681267', 'name': 'to the right of'},\n",
       "   {'object': '681253', 'name': 'to the right of'}],\n",
       "  'w': 15,\n",
       "  'attributes': ['white', 'plastic'],\n",
       "  'y': 55,\n",
       "  'x': 402},\n",
       " '681261': {'name': 'meat',\n",
       "  'h': 27,\n",
       "  'relations': [{'object': '681255', 'name': 'on'},\n",
       "   {'object': '681255', 'name': 'inside'}],\n",
       "  'w': 24,\n",
       "  'attributes': ['small', 'brown', 'delicious'],\n",
       "  'y': 123,\n",
       "  'x': 68},\n",
       " '681260': {'name': 'rice',\n",
       "  'h': 57,\n",
       "  'relations': [{'object': '681255', 'name': 'on'},\n",
       "   {'object': '681258', 'name': 'to the left of'}],\n",
       "  'w': 93,\n",
       "  'attributes': ['piled', 'white'],\n",
       "  'y': 162,\n",
       "  'x': 57},\n",
       " '681269': {'name': 'onions',\n",
       "  'h': 16,\n",
       "  'relations': [],\n",
       "  'w': 24,\n",
       "  'attributes': ['green'],\n",
       "  'y': 147,\n",
       "  'x': 90},\n",
       " '681268': {'name': 'tablecloth',\n",
       "  'h': 374,\n",
       "  'relations': [{'object': '681262', 'name': 'to the left of'}],\n",
       "  'w': 396,\n",
       "  'attributes': ['white'],\n",
       "  'y': 0,\n",
       "  'x': 0},\n",
       " '681258': {'name': 'bowl',\n",
       "  'h': 99,\n",
       "  'relations': [{'object': '681255', 'name': 'next to'},\n",
       "   {'object': '681257', 'name': 'of'},\n",
       "   {'object': '681255', 'name': 'near'},\n",
       "   {'object': '681256', 'name': 'to the right of'},\n",
       "   {'object': '681260', 'name': 'to the right of'},\n",
       "   {'object': '681255', 'name': 'to the right of'}],\n",
       "  'w': 115,\n",
       "  'attributes': ['full'],\n",
       "  'y': 184,\n",
       "  'x': 178},\n",
       " '681259': {'name': 'plantains',\n",
       "  'h': 70,\n",
       "  'relations': [{'object': '681264', 'name': 'to the right of'}],\n",
       "  'w': 45,\n",
       "  'attributes': ['red'],\n",
       "  'y': 0,\n",
       "  'x': 346},\n",
       " '681256': {'name': 'spoon',\n",
       "  'h': 65,\n",
       "  'relations': [{'object': '681255', 'name': 'on'},\n",
       "   {'object': '681257', 'name': 'to the left of'},\n",
       "   {'object': '681255', 'name': 'in'},\n",
       "   {'object': '681258', 'name': 'to the left of'}],\n",
       "  'w': 140,\n",
       "  'attributes': ['large', 'metal', 'silver'],\n",
       "  'y': 196,\n",
       "  'x': 0},\n",
       " '681257': {'name': 'dish',\n",
       "  'h': 81,\n",
       "  'relations': [{'object': '681258', 'name': 'inside'},\n",
       "   {'object': '681256', 'name': 'to the right of'},\n",
       "   {'object': '681258', 'name': 'in'},\n",
       "   {'object': '681255', 'name': 'to the right of'}],\n",
       "  'w': 108,\n",
       "  'attributes': ['cream colored'],\n",
       "  'y': 199,\n",
       "  'x': 187},\n",
       " '681254': {'name': 'meal',\n",
       "  'h': 111,\n",
       "  'relations': [],\n",
       "  'w': 130,\n",
       "  'attributes': [],\n",
       "  'y': 121,\n",
       "  'x': 58},\n",
       " '681255': {'name': 'plate',\n",
       "  'h': 138,\n",
       "  'relations': [{'object': '681257', 'name': 'to the left of'},\n",
       "   {'object': '681254', 'name': 'of'},\n",
       "   {'object': '681254', 'name': 'with'},\n",
       "   {'object': '681258', 'name': 'near'},\n",
       "   {'object': '681258', 'name': 'to the left of'}],\n",
       "  'w': 176,\n",
       "  'attributes': ['white', 'full'],\n",
       "  'y': 111,\n",
       "  'x': 30},\n",
       " '681253': {'name': 'banana',\n",
       "  'h': 30,\n",
       "  'relations': [{'object': '681262', 'name': 'to the left of'}],\n",
       "  'w': 73,\n",
       "  'attributes': ['small', 'yellow'],\n",
       "  'y': 87,\n",
       "  'x': 237}}"
      ]
     },
     "metadata": {},
     "execution_count": 13
    }
   ],
   "source": [
    "train_sg['2386621']['objects']"
   ]
  },
  {
   "source": [
    "### Find Max Question Length (30)"
   ],
   "cell_type": "markdown",
   "metadata": {}
  },
  {
   "cell_type": "code",
   "execution_count": 25,
   "metadata": {},
   "outputs": [],
   "source": [
    "def tokenize(sentence):\n",
    "    # punctuation should be separated from the words\n",
    "    s = re.sub('([.,;:!?()])', r' \\1 ', sentence)\n",
    "    s = re.sub('\\s{2,}', ' ', s)\n",
    "\n",
    "    # tokenize\n",
    "    split = s.split()\n",
    "\n",
    "    # normalize all words to lowercase\n",
    "    lower = [w.lower() for w in split]\n",
    "    return lower\n",
    "\n",
    "def to_dictionary_indexes(dictionary, sentence):\n",
    "    \"\"\"\n",
    "    Outputs indexes of the dictionary corresponding to the words in the sequence.\n",
    "    Case insensitive.\n",
    "    \"\"\"\n",
    "    split = tokenize(sentence)\n",
    "    idxs = np.array([dictionary[w] if w in dictionary else dictionary['UNK'] for w in split])\n",
    "    return idxs"
   ]
  },
  {
   "cell_type": "code",
   "execution_count": 3,
   "metadata": {},
   "outputs": [],
   "source": [
    "longest_q = 0\n",
    "with open('.\\\\data\\\\train_balanced_questions.json', 'r') as f:\n",
    "    train_q = json.load(f)\n",
    "    for q in train_q:\n",
    "        question = tokenize(train_q[q]['question'])\n",
    "        q_len = len(question)\n",
    "        if q_len > longest_q:\n",
    "            longest_q = q_len\n",
    "\n",
    "with open('.\\\\data\\\\val_all_questions.json', 'r') as f:\n",
    "    val_q = json.load(f)\n",
    "    for q in val_q:\n",
    "        question = tokenize(val_q[q]['question'])\n",
    "        q_len = len(question)\n",
    "        if q_len > longest_q:\n",
    "            longest_q = q_len"
   ]
  },
  {
   "cell_type": "code",
   "execution_count": 4,
   "metadata": {},
   "outputs": [
    {
     "output_type": "execute_result",
     "data": {
      "text/plain": [
       "30"
      ]
     },
     "metadata": {},
     "execution_count": 4
    }
   ],
   "source": [
    "longest_q"
   ]
  },
  {
   "source": [
    "### Get number of Names, number of Attributes, and maximum number of Attributes for a single object"
   ],
   "cell_type": "markdown",
   "metadata": {}
  },
  {
   "cell_type": "code",
   "execution_count": 22,
   "metadata": {},
   "outputs": [],
   "source": [
    "names = []\n",
    "attr = []\n",
    "max_attr = 0\n",
    "\n",
    "with open('.\\\\data\\\\train_sceneGraphs.json', 'r') as f:\n",
    "    train_sg = json.load(f)\n",
    "    for sg in train_sg:\n",
    "        objects = train_sg[sg]['objects']\n",
    "        for obj in objects:\n",
    "            names.append(train_sg[sg]['objects'][obj]['name'])\n",
    "            attr += train_sg[sg]['objects'][obj]['attributes']\n",
    "            attr_len = len(train_sg[sg]['objects'][obj]['attributes'])\n",
    "            if attr_len > max_attr:\n",
    "                max_attr = attr_len\n",
    "\n",
    "with open('.\\\\data\\\\val_sceneGraphs.json', 'r') as f:\n",
    "    val_sg = json.load(f)\n",
    "    for sg in val_sg:\n",
    "        objects = val_sg[sg]['objects']\n",
    "        for obj in objects:\n",
    "            names.append(val_sg[sg]['objects'][obj]['name'])\n",
    "            attr += val_sg[sg]['objects'][obj]['attributes']\n",
    "            attr_len = len(val_sg[sg]['objects'][obj]['attributes'])\n",
    "            if attr_len > max_attr:\n",
    "                max_attr = attr_len"
   ]
  },
  {
   "cell_type": "code",
   "execution_count": 28,
   "metadata": {},
   "outputs": [
    {
     "output_type": "stream",
     "name": "stdout",
     "text": [
      "1703\n617\n36\n"
     ]
    }
   ],
   "source": [
    "names = set(names)\n",
    "attr = set(attr)\n",
    "print(len(names))\n",
    "print(len(attr))\n",
    "print(max_attr)"
   ]
  },
  {
   "cell_type": "code",
   "execution_count": 29,
   "metadata": {},
   "outputs": [
    {
     "output_type": "execute_result",
     "data": {
      "text/plain": [
       "47912"
      ]
     },
     "metadata": {},
     "execution_count": 29
    }
   ],
   "source": [
    "(4+1704+(618*36))*2"
   ]
  },
  {
   "source": [
    "### Make Predictions"
   ],
   "cell_type": "markdown",
   "metadata": {}
  },
  {
   "cell_type": "code",
   "execution_count": 12,
   "metadata": {},
   "outputs": [],
   "source": [
    "preds = []\n",
    "for ques in qids:\n",
    "    preds.append({\"questionId\": ques, \"prediction\": 'no'})"
   ]
  },
  {
   "cell_type": "code",
   "execution_count": 13,
   "metadata": {},
   "outputs": [],
   "source": [
    "with open('val_predictions.json', 'w') as f:\n",
    "    json.dump(preds, f)"
   ]
  }
 ]
}