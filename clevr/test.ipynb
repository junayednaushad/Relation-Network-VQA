{
 "cells": [
  {
   "cell_type": "code",
   "execution_count": 1,
   "metadata": {},
   "outputs": [],
   "source": [
    "import argparse\n",
    "import json\n",
    "import os\n",
    "import pickle\n",
    "import re\n",
    "import numpy as np\n",
    "\n",
    "import torch\n",
    "import torch.optim as optim\n",
    "from torch.optim import lr_scheduler\n",
    "import torch.nn as nn\n",
    "from torch.nn.utils import clip_grad_norm\n",
    "from torch.utils.data import DataLoader\n",
    "from tqdm import tqdm, trange\n",
    "\n",
    "import utils\n",
    "import math\n",
    "from dataset import ClevrDataset\n",
    "from model import RN"
   ]
  },
  {
   "cell_type": "code",
   "execution_count": 14,
   "metadata": {},
   "outputs": [],
   "source": [
    "val_scene_filename = 'D:\\\\272_project\\\\data\\\\GQA\\\\eval\\\\val_choices.json'\n",
    "with open(val_scene_filename, 'r') as f:\n",
    "    val_scene = json.load(f)"
   ]
  },
  {
   "cell_type": "code",
   "execution_count": 16,
   "metadata": {},
   "outputs": [
    {
     "output_type": "execute_result",
     "data": {
      "text/plain": [
       "{'plausible': ['yes', 'no'], 'valid': ['yes', 'no']}"
      ]
     },
     "metadata": {},
     "execution_count": 16
    }
   ],
   "source": [
    "val_scene['07785307']"
   ]
  },
  {
   "cell_type": "code",
   "execution_count": 13,
   "metadata": {},
   "outputs": [
    {
     "output_type": "execute_result",
     "data": {
      "text/plain": [
       "False"
      ]
     },
     "metadata": {},
     "execution_count": 13
    }
   ],
   "source": [
    "'n336443' in val_scene.keys()"
   ]
  },
  {
   "cell_type": "code",
   "execution_count": 10,
   "metadata": {},
   "outputs": [
    {
     "output_type": "execute_result",
     "data": {
      "text/plain": [
       "12"
      ]
     },
     "metadata": {},
     "execution_count": 10
    }
   ],
   "source": [
    "val_scene['1159721']['o"
   ]
  },
  {
   "cell_type": "code",
   "execution_count": 2,
   "metadata": {},
   "outputs": [
    {
     "output_type": "execute_result",
     "data": {
      "text/plain": [
       "'c:\\\\Users\\\\mpnau\\\\Documents\\\\School\\\\CS272\\\\Relation-Network-VQA\\\\clevr'"
      ]
     },
     "metadata": {},
     "execution_count": 2
    }
   ],
   "source": [
    "os.getcwd()"
   ]
  },
  {
   "cell_type": "code",
   "execution_count": 3,
   "metadata": {},
   "outputs": [
    {
     "output_type": "execute_result",
     "data": {
      "text/plain": [
       "['COPYRIGHT.txt', 'images', 'LICENSE.txt', 'questions', 'README.txt', 'scenes']"
      ]
     },
     "metadata": {},
     "execution_count": 3
    }
   ],
   "source": [
    "clevr_dir = 'D:\\\\272_project\\\\data\\\\CLEVR'\n",
    "os.listdir(clevr_dir)"
   ]
  },
  {
   "source": [
    "### Question Data"
   ],
   "cell_type": "markdown",
   "metadata": {}
  },
  {
   "cell_type": "code",
   "execution_count": 4,
   "metadata": {},
   "outputs": [],
   "source": [
    "train_q_filename = os.path.join(clevr_dir, 'questions', 'CLEVR_trainA_questions.json')\n",
    "with open(train_q_filename, 'r') as f:\n",
    "    train_q = json.load(f)['questions']"
   ]
  },
  {
   "cell_type": "code",
   "execution_count": 5,
   "metadata": {},
   "outputs": [
    {
     "output_type": "execute_result",
     "data": {
      "text/plain": [
       "{'question_index': 50,\n",
       " 'question_family_index': 62,\n",
       " 'image_index': 5,\n",
       " 'question': 'There is a tiny object that is the same shape as the large red metallic object; what color is it?',\n",
       " 'answer': 'red',\n",
       " 'image_filename': 'CLEVR_trainA_000005.png',\n",
       " 'split': 'trainA',\n",
       " 'program': [{'value_inputs': [], 'inputs': [], 'function': 'scene'},\n",
       "  {'value_inputs': ['large'], 'inputs': [0], 'function': 'filter_size'},\n",
       "  {'value_inputs': ['red'], 'inputs': [1], 'function': 'filter_color'},\n",
       "  {'value_inputs': ['metal'], 'inputs': [2], 'function': 'filter_material'},\n",
       "  {'value_inputs': [], 'inputs': [3], 'function': 'unique'},\n",
       "  {'value_inputs': [], 'inputs': [4], 'function': 'same_shape'},\n",
       "  {'value_inputs': ['small'], 'inputs': [5], 'function': 'filter_size'},\n",
       "  {'value_inputs': [], 'inputs': [6], 'function': 'unique'},\n",
       "  {'value_inputs': [], 'inputs': [7], 'function': 'query_color'}]}"
      ]
     },
     "metadata": {},
     "execution_count": 5
    }
   ],
   "source": [
    "train_q[50]"
   ]
  },
  {
   "cell_type": "code",
   "execution_count": 10,
   "metadata": {},
   "outputs": [
    {
     "output_type": "stream",
     "name": "stdout",
     "text": [
      "Number of questions in training data: 699960\n"
     ]
    }
   ],
   "source": [
    "print('Number of questions in training data:', len(train_q))"
   ]
  },
  {
   "cell_type": "code",
   "execution_count": 6,
   "metadata": {},
   "outputs": [],
   "source": [
    "test_q_filename = os.path.join(clevr_dir, 'questions', 'CLEVR_testA_questions.json')\n",
    "with open(test_q_filename, 'r') as f:\n",
    "    test_q = json.load(f)['questions']"
   ]
  },
  {
   "cell_type": "code",
   "execution_count": 7,
   "metadata": {},
   "outputs": [
    {
     "output_type": "execute_result",
     "data": {
      "text/plain": [
       "{'question': 'There is a object that is both on the right side of the matte cylinder and in front of the large thing; what is its size?',\n",
       " 'image_filename': 'CLEVR_testA_000005.png',\n",
       " 'split': 'testA',\n",
       " 'image_index': 5,\n",
       " 'question_index': 50}"
      ]
     },
     "metadata": {},
     "execution_count": 7
    }
   ],
   "source": [
    "test_q[50]"
   ]
  },
  {
   "source": [
    "### Scene Data"
   ],
   "cell_type": "markdown",
   "metadata": {}
  },
  {
   "cell_type": "code",
   "execution_count": 8,
   "metadata": {},
   "outputs": [],
   "source": [
    "train_scene_filename = os.path.join(clevr_dir, 'scenes', 'CLEVR_trainA_scenes.json')\n",
    "with open(train_scene_filename, 'r') as f:\n",
    "    train_s = json.load(f)['scenes']"
   ]
  },
  {
   "cell_type": "code",
   "execution_count": 11,
   "metadata": {},
   "outputs": [
    {
     "output_type": "execute_result",
     "data": {
      "text/plain": [
       "dict_keys(['image_filename', 'objects', 'split', 'image_index', 'relationships', 'directions'])"
      ]
     },
     "metadata": {},
     "execution_count": 11
    }
   ],
   "source": [
    "train_s[5].keys()"
   ]
  },
  {
   "cell_type": "code",
   "execution_count": 9,
   "metadata": {},
   "outputs": [
    {
     "output_type": "execute_result",
     "data": {
      "text/plain": [
       "{'image_filename': 'CLEVR_trainA_000005.png',\n",
       " 'objects': [{'pixel_coords': [226, 132, 12.197944641113281],\n",
       "   'size': 'small',\n",
       "   'color': 'green',\n",
       "   'material': 'metal',\n",
       "   'shape': 'cylinder',\n",
       "   '3d_coords': [-0.7854127883911133, 0.25492721796035767, 0.3499999940395355],\n",
       "   'rotation': 91.08205168295301},\n",
       "  {'pixel_coords': [321, 147, 11.443076133728027],\n",
       "   'size': 'small',\n",
       "   'color': 'gray',\n",
       "   'material': 'metal',\n",
       "   'shape': 'cube',\n",
       "   '3d_coords': [1.2099950313568115, 1.27609121799469, 0.3499999940395355],\n",
       "   'rotation': 164.42639326011357},\n",
       "  {'pixel_coords': [250, 169, 10.52890682220459],\n",
       "   'size': 'small',\n",
       "   'color': 'blue',\n",
       "   'material': 'rubber',\n",
       "   'shape': 'cube',\n",
       "   '3d_coords': [0.974945068359375, -0.5668714642524719, 0.3499999940395355],\n",
       "   'rotation': 108.6414687081874},\n",
       "  {'pixel_coords': [123, 180, 10.131351470947266],\n",
       "   'size': 'small',\n",
       "   'color': 'red',\n",
       "   'material': 'rubber',\n",
       "   'shape': 'sphere',\n",
       "   '3d_coords': [-0.29078203439712524, -2.719691514968872, 0.3499999940395355],\n",
       "   'rotation': 57.335918728390794},\n",
       "  {'pixel_coords': [190, 208, 8.578315734863281],\n",
       "   'size': 'large',\n",
       "   'color': 'red',\n",
       "   'material': 'metal',\n",
       "   'shape': 'sphere',\n",
       "   '3d_coords': [1.824455976486206, -2.6588985919952393, 0.699999988079071],\n",
       "   'rotation': 345.7617860125115},\n",
       "  {'pixel_coords': [282, 99, 14.133188247680664],\n",
       "   'size': 'small',\n",
       "   'color': 'cyan',\n",
       "   'material': 'rubber',\n",
       "   'shape': 'cylinder',\n",
       "   '3d_coords': [-1.488033652305603, 2.762401819229126, 0.3499999940395355],\n",
       "   'rotation': 283.44775885233815},\n",
       "  {'pixel_coords': [342, 120, 12.856840133666992],\n",
       "   'size': 'small',\n",
       "   'color': 'brown',\n",
       "   'material': 'rubber',\n",
       "   'shape': 'cube',\n",
       "   '3d_coords': [0.49163639545440674, 2.8697140216827393, 0.3499999940395355],\n",
       "   'rotation': 185.9733636106194},\n",
       "  {'pixel_coords': [175, 108, 13.566875457763672],\n",
       "   'size': 'small',\n",
       "   'color': 'gray',\n",
       "   'material': 'rubber',\n",
       "   'shape': 'cube',\n",
       "   '3d_coords': [-2.8349409103393555, 0.22547656297683716, 0.3499999940395355],\n",
       "   'rotation': 250.67052606499666},\n",
       "  {'pixel_coords': [423, 143, 10.803361892700195],\n",
       "   'size': 'large',\n",
       "   'color': 'brown',\n",
       "   'material': 'rubber',\n",
       "   'shape': 'sphere',\n",
       "   '3d_coords': [2.925050973892212, 2.4406070709228516, 0.699999988079071],\n",
       "   'rotation': 111.25831414555982}],\n",
       " 'split': 'trainA',\n",
       " 'image_index': 5,\n",
       " 'relationships': {'behind': [[5, 6, 7],\n",
       "   [0, 5, 6, 7],\n",
       "   [0, 1, 5, 6, 7, 8],\n",
       "   [0, 1, 2, 5, 6, 7, 8],\n",
       "   [0, 1, 2, 3, 5, 6, 7, 8],\n",
       "   [],\n",
       "   [5, 7],\n",
       "   [5],\n",
       "   [0, 1, 5, 6, 7]],\n",
       "  'front': [[1, 2, 3, 4, 8],\n",
       "   [2, 3, 4, 8],\n",
       "   [3, 4],\n",
       "   [4],\n",
       "   [],\n",
       "   [0, 1, 2, 3, 4, 6, 7, 8],\n",
       "   [0, 1, 2, 3, 4, 8],\n",
       "   [0, 1, 2, 3, 4, 6, 8],\n",
       "   [2, 3, 4]],\n",
       "  'left': [[3, 4, 7],\n",
       "   [0, 2, 3, 4, 5, 7],\n",
       "   [0, 3, 4, 7],\n",
       "   [],\n",
       "   [3, 7],\n",
       "   [0, 2, 3, 4, 7],\n",
       "   [0, 1, 2, 3, 4, 5, 7],\n",
       "   [3],\n",
       "   [0, 1, 2, 3, 4, 5, 6, 7]],\n",
       "  'right': [[1, 2, 5, 6, 8],\n",
       "   [6, 8],\n",
       "   [1, 5, 6, 8],\n",
       "   [0, 1, 2, 4, 5, 6, 7, 8],\n",
       "   [0, 1, 2, 5, 6, 8],\n",
       "   [1, 6, 8],\n",
       "   [8],\n",
       "   [0, 1, 2, 4, 5, 6, 8],\n",
       "   []]},\n",
       " 'directions': {'above': [0.0, 0.0, 1.0],\n",
       "  'right': [0.6563112735748291, 0.7544902563095093, -0.0],\n",
       "  'front': [0.754490315914154, -0.6563112735748291, -0.0],\n",
       "  'behind': [-0.754490315914154, 0.6563112735748291, 0.0],\n",
       "  'below': [-0.0, -0.0, -1.0],\n",
       "  'left': [-0.6563112735748291, -0.7544902563095093, 0.0]}}"
      ]
     },
     "metadata": {},
     "execution_count": 9
    }
   ],
   "source": [
    "train_s[5]"
   ]
  },
  {
   "source": [
    "### Dictionaries"
   ],
   "cell_type": "markdown",
   "metadata": {}
  },
  {
   "cell_type": "code",
   "execution_count": 12,
   "metadata": {},
   "outputs": [
    {
     "output_type": "stream",
     "name": "stdout",
     "text": [
      "==> using cached dictionaries: D:\\272_project\\data\\CLEVR\\questions\\CLEVR_built_dictionaries.pkl\n"
     ]
    }
   ],
   "source": [
    "dictionaries = utils.build_dictionaries(clevr_dir)"
   ]
  },
  {
   "cell_type": "code",
   "execution_count": 13,
   "metadata": {},
   "outputs": [
    {
     "output_type": "execute_result",
     "data": {
      "text/plain": [
       "({'are': 1,\n",
       "  'there': 2,\n",
       "  'any': 3,\n",
       "  'gray': 4,\n",
       "  'things': 5,\n",
       "  'made': 6,\n",
       "  'of': 7,\n",
       "  'the': 8,\n",
       "  'same': 9,\n",
       "  'material': 10,\n",
       "  'as': 11,\n",
       "  'big': 12,\n",
       "  'cyan': 13,\n",
       "  'cylinder': 14,\n",
       "  '?': 15,\n",
       "  'number': 16,\n",
       "  'balls': 17,\n",
       "  'that': 18,\n",
       "  'in': 19,\n",
       "  'front': 20,\n",
       "  'metal': 21,\n",
       "  'and': 22,\n",
       "  'large': 23,\n",
       "  'spheres': 24,\n",
       "  'behind': 25,\n",
       "  'thing': 26,\n",
       "  'tiny': 27,\n",
       "  'have': 28,\n",
       "  'color': 29,\n",
       "  'metallic': 30,\n",
       "  'is': 31,\n",
       "  'a': 32,\n",
       "  'small': 33,\n",
       "  'yellow': 34,\n",
       "  'object': 35,\n",
       "  ';': 36,\n",
       "  'what': 37,\n",
       "  'its': 38,\n",
       "  'shape': 39,\n",
       "  'how': 40,\n",
       "  'many': 41,\n",
       "  'objects': 42,\n",
       "  'matte': 43,\n",
       "  'or': 44,\n",
       "  'green': 45,\n",
       "  'rubber': 46,\n",
       "  'sphere': 47,\n",
       "  'size': 48,\n",
       "  'either': 49,\n",
       "  'to': 50,\n",
       "  'left': 51,\n",
       "  'ball': 52,\n",
       "  'shiny': 53,\n",
       "  'block': 54,\n",
       "  'on': 55,\n",
       "  'right': 56,\n",
       "  'side': 57,\n",
       "  'both': 58,\n",
       "  'red': 59,\n",
       "  'cylinders': 60,\n",
       "  'blocks': 61,\n",
       "  'blue': 62,\n",
       "  'purple': 63,\n",
       "  'other': 64,\n",
       "  'do': 65,\n",
       "  'cube': 66,\n",
       "  'anything': 67,\n",
       "  'else': 68,\n",
       "  'has': 69,\n",
       "  'does': 70,\n",
       "  'it': 71,\n",
       "  'brown': 72,\n",
       "  'cubes': 73,\n",
       "  'greater': 74,\n",
       "  'than': 75,\n",
       "  'more': 76,\n",
       "  'fewer': 77,\n",
       "  'less': 78,\n",
       "  'an': 79,\n",
       "  'equal': 80,\n",
       "  'another': 81,\n",
       "  'visible': 82},\n",
       " {'no': 1,\n",
       "  'cylinder': 2,\n",
       "  '0': 3,\n",
       "  'large': 4,\n",
       "  'yes': 5,\n",
       "  '1': 6,\n",
       "  'metal': 7,\n",
       "  'rubber': 8,\n",
       "  'sphere': 9,\n",
       "  'green': 10,\n",
       "  'blue': 11,\n",
       "  '2': 12,\n",
       "  'cyan': 13,\n",
       "  'brown': 14,\n",
       "  'small': 15,\n",
       "  'red': 16,\n",
       "  'cube': 17,\n",
       "  'gray': 18,\n",
       "  '8': 19,\n",
       "  'yellow': 20,\n",
       "  '4': 21,\n",
       "  'purple': 22,\n",
       "  '3': 23,\n",
       "  '7': 24,\n",
       "  '6': 25,\n",
       "  '5': 26,\n",
       "  '9': 27,\n",
       "  '10': 28},\n",
       " {1: 'exist',\n",
       "  2: 'shape',\n",
       "  3: 'number',\n",
       "  4: 'size',\n",
       "  5: 'exist',\n",
       "  6: 'number',\n",
       "  7: 'material',\n",
       "  8: 'material',\n",
       "  9: 'shape',\n",
       "  10: 'color',\n",
       "  11: 'color',\n",
       "  12: 'number',\n",
       "  13: 'color',\n",
       "  14: 'color',\n",
       "  15: 'size',\n",
       "  16: 'color',\n",
       "  17: 'shape',\n",
       "  18: 'color',\n",
       "  19: 'number',\n",
       "  20: 'color',\n",
       "  21: 'number',\n",
       "  22: 'color',\n",
       "  23: 'number',\n",
       "  24: 'number',\n",
       "  25: 'number',\n",
       "  26: 'number',\n",
       "  27: 'number',\n",
       "  28: 'number'})"
      ]
     },
     "metadata": {},
     "execution_count": 13
    }
   ],
   "source": [
    "dictionaries"
   ]
  },
  {
   "source": [
    "First dictionary holds question vocab, second dictionary holds answers, third dictionary holds category for that answer."
   ],
   "cell_type": "markdown",
   "metadata": {}
  },
  {
   "source": [
    "### Dataset and DataLoader"
   ],
   "cell_type": "markdown",
   "metadata": {}
  },
  {
   "cell_type": "code",
   "execution_count": 14,
   "metadata": {},
   "outputs": [
    {
     "output_type": "stream",
     "name": "stdout",
     "text": [
      "loading questions...\n",
      "==> using cached scenes: D:\\272_project\\data\\CLEVR\\scenes\\CLEVR_trainA_scenes.pkl\n"
     ]
    }
   ],
   "source": [
    "clevr_dataset_train = ClevrDataset(clevr_dir, True, dictionaries)\n",
    "clevr_train_loader = DataLoader(clevr_dataset_train, batch_size=3,\n",
    "                                    shuffle=True, collate_fn=utils.collate_samples)"
   ]
  },
  {
   "cell_type": "code",
   "execution_count": 15,
   "metadata": {},
   "outputs": [
    {
     "output_type": "execute_result",
     "data": {
      "text/plain": [
       "{'image': tensor([[-0.7854,  0.2549,  0.3500,  6.0000,  2.0000,  3.0000,  2.0000],\n",
       "         [ 1.2100,  1.2761,  0.3500,  7.0000,  2.0000,  2.0000,  2.0000],\n",
       "         [ 0.9749, -0.5669,  0.3500,  2.0000,  1.0000,  2.0000,  2.0000],\n",
       "         [-0.2908, -2.7197,  0.3500,  5.0000,  1.0000,  1.0000,  2.0000],\n",
       "         [ 1.8245, -2.6589,  0.7000,  5.0000,  2.0000,  1.0000,  1.0000],\n",
       "         [-1.4880,  2.7624,  0.3500,  1.0000,  1.0000,  3.0000,  2.0000],\n",
       "         [ 0.4916,  2.8697,  0.3500,  8.0000,  1.0000,  2.0000,  2.0000],\n",
       "         [-2.8349,  0.2255,  0.3500,  7.0000,  1.0000,  2.0000,  2.0000],\n",
       "         [ 2.9251,  2.4406,  0.7000,  8.0000,  1.0000,  1.0000,  1.0000]]),\n",
       " 'question': tensor([ 2, 31, 32, 27, 35, 18, 31,  8,  9, 39, 11,  8, 23, 59, 30, 35, 36, 37,\n",
       "         29, 31, 71, 15]),\n",
       " 'answer': tensor([16])}"
      ]
     },
     "metadata": {},
     "execution_count": 15
    }
   ],
   "source": [
    "clevr_dataset_train[50]"
   ]
  },
  {
   "cell_type": "code",
   "execution_count": 16,
   "metadata": {},
   "outputs": [
    {
     "output_type": "execute_result",
     "data": {
      "text/plain": [
       "{'image': tensor([[[ 2.6672,  0.7097,  0.3500,  2.0000,  2.0000,  2.0000,  2.0000],\n",
       "          [ 2.2848, -2.8362,  0.3500,  1.0000,  1.0000,  3.0000,  2.0000],\n",
       "          [-2.9901, -0.2639,  0.7000,  5.0000,  1.0000,  3.0000,  1.0000],\n",
       "          [ 0.9244,  0.6390,  0.3500,  8.0000,  2.0000,  2.0000,  2.0000],\n",
       "          [-0.7456,  1.2459,  0.3500,  6.0000,  1.0000,  3.0000,  2.0000],\n",
       "          [ 0.6022, -2.4559,  0.7000,  6.0000,  2.0000,  1.0000,  1.0000],\n",
       "          [ 1.1887,  2.7453,  0.7000,  7.0000,  1.0000,  2.0000,  1.0000],\n",
       "          [-1.0821, -2.8627,  0.7000,  6.0000,  2.0000,  3.0000,  1.0000],\n",
       "          [-2.6200,  2.2461,  0.3500,  6.0000,  1.0000,  3.0000,  2.0000],\n",
       "          [-1.0013,  2.9526,  0.7000,  4.0000,  2.0000,  1.0000,  1.0000],\n",
       "          [ 0.0000,  0.0000,  0.0000,  0.0000,  0.0000,  0.0000,  0.0000],\n",
       "          [ 0.0000,  0.0000,  0.0000,  0.0000,  0.0000,  0.0000,  0.0000]],\n",
       " \n",
       "         [[-1.1363, -0.2567,  0.7000,  2.0000,  1.0000,  2.0000,  1.0000],\n",
       "          [ 1.0704,  0.9271,  0.3500,  4.0000,  2.0000,  3.0000,  2.0000],\n",
       "          [ 1.2051, -0.6514,  0.7000,  1.0000,  1.0000,  3.0000,  1.0000],\n",
       "          [ 2.3078,  2.9967,  0.7000,  8.0000,  1.0000,  1.0000,  1.0000],\n",
       "          [ 2.8005,  0.3110,  0.7000,  2.0000,  2.0000,  2.0000,  1.0000],\n",
       "          [ 2.9801, -2.8405,  0.3500,  3.0000,  2.0000,  2.0000,  2.0000],\n",
       "          [ 0.7621, -2.9981,  0.3500,  3.0000,  2.0000,  2.0000,  2.0000],\n",
       "          [-1.1185, -2.4518,  0.7000,  5.0000,  2.0000,  1.0000,  1.0000],\n",
       "          [ 0.8316,  2.6456,  0.3500,  1.0000,  2.0000,  3.0000,  2.0000],\n",
       "          [-2.1200,  2.9047,  0.3500,  7.0000,  2.0000,  2.0000,  2.0000],\n",
       "          [ 0.0000,  0.0000,  0.0000,  0.0000,  0.0000,  0.0000,  0.0000],\n",
       "          [ 0.0000,  0.0000,  0.0000,  0.0000,  0.0000,  0.0000,  0.0000]],\n",
       " \n",
       "         [[-2.3014,  0.1468,  0.3500,  5.0000,  2.0000,  3.0000,  2.0000],\n",
       "          [ 2.2175,  1.4266,  0.7000,  5.0000,  1.0000,  1.0000,  1.0000],\n",
       "          [ 1.6311, -0.3821,  0.7000,  7.0000,  1.0000,  2.0000,  1.0000],\n",
       "          [-0.9621,  0.4520,  0.3500,  8.0000,  2.0000,  1.0000,  2.0000],\n",
       "          [ 0.0000,  0.0000,  0.0000,  0.0000,  0.0000,  0.0000,  0.0000],\n",
       "          [ 0.0000,  0.0000,  0.0000,  0.0000,  0.0000,  0.0000,  0.0000],\n",
       "          [ 0.0000,  0.0000,  0.0000,  0.0000,  0.0000,  0.0000,  0.0000],\n",
       "          [ 0.0000,  0.0000,  0.0000,  0.0000,  0.0000,  0.0000,  0.0000],\n",
       "          [ 0.0000,  0.0000,  0.0000,  0.0000,  0.0000,  0.0000,  0.0000],\n",
       "          [ 0.0000,  0.0000,  0.0000,  0.0000,  0.0000,  0.0000,  0.0000],\n",
       "          [ 0.0000,  0.0000,  0.0000,  0.0000,  0.0000,  0.0000,  0.0000],\n",
       "          [ 0.0000,  0.0000,  0.0000,  0.0000,  0.0000,  0.0000,  0.0000]]]),\n",
       " 'answer': tensor([[ 6],\n",
       "         [25],\n",
       "         [ 7]]),\n",
       " 'question': tensor([[37, 16,  7, 63, 42,  1, 49, 23, 73, 44, 21, 24, 15,  0,  0,  0,  0,  0,\n",
       "           0,  0,  0,  0,  0,  0,  0,  0],\n",
       "         [37, 16,  7,  5,  1, 23, 13, 43,  5, 44, 33, 42, 15,  0,  0,  0,  0,  0,\n",
       "           0,  0,  0,  0,  0,  0,  0,  0],\n",
       "         [37, 10, 31,  8, 52, 50,  8, 51,  7,  8, 59, 26, 19, 20,  7,  8, 27, 53,\n",
       "          35, 18, 31, 56,  7,  8, 14, 15]])}"
      ]
     },
     "metadata": {},
     "execution_count": 16
    }
   ],
   "source": [
    "dataiter = iter(clevr_train_loader)\n",
    "sample_batched = dataiter.next()\n",
    "sample_batched"
   ]
  },
  {
   "cell_type": "code",
   "execution_count": 17,
   "metadata": {},
   "outputs": [
    {
     "output_type": "stream",
     "name": "stdout",
     "text": [
      "<class 'torch.Tensor'>\ntorch.Size([3, 12, 7])\n"
     ]
    }
   ],
   "source": [
    "print(type(sample_batched['image']))\n",
    "print(sample_batched['image'].shape)"
   ]
  },
  {
   "cell_type": "code",
   "execution_count": 18,
   "metadata": {},
   "outputs": [
    {
     "output_type": "stream",
     "name": "stdout",
     "text": [
      "<class 'torch.Tensor'>\ntorch.Size([3, 1])\n"
     ]
    }
   ],
   "source": [
    "print(type(sample_batched['answer']))\n",
    "print(sample_batched['answer'].shape)"
   ]
  },
  {
   "cell_type": "code",
   "execution_count": 19,
   "metadata": {},
   "outputs": [
    {
     "output_type": "stream",
     "name": "stdout",
     "text": [
      "<class 'torch.Tensor'>\ntorch.Size([3, 26])\n"
     ]
    }
   ],
   "source": [
    "print(type(sample_batched['question']))\n",
    "print(sample_batched['question'].shape)"
   ]
  },
  {
   "cell_type": "code",
   "execution_count": 20,
   "metadata": {},
   "outputs": [],
   "source": [
    "img, qst, label = utils.load_tensor_data(sample_batched, False, True)"
   ]
  },
  {
   "cell_type": "code",
   "execution_count": 21,
   "metadata": {},
   "outputs": [
    {
     "output_type": "execute_result",
     "data": {
      "text/plain": [
       "tensor([[[ 2.6672,  0.7097,  0.3500,  2.0000,  2.0000,  2.0000,  2.0000],\n",
       "         [ 2.2848, -2.8362,  0.3500,  1.0000,  1.0000,  3.0000,  2.0000],\n",
       "         [-2.9901, -0.2639,  0.7000,  5.0000,  1.0000,  3.0000,  1.0000],\n",
       "         [ 0.9244,  0.6390,  0.3500,  8.0000,  2.0000,  2.0000,  2.0000],\n",
       "         [-0.7456,  1.2459,  0.3500,  6.0000,  1.0000,  3.0000,  2.0000],\n",
       "         [ 0.6022, -2.4559,  0.7000,  6.0000,  2.0000,  1.0000,  1.0000],\n",
       "         [ 1.1887,  2.7453,  0.7000,  7.0000,  1.0000,  2.0000,  1.0000],\n",
       "         [-1.0821, -2.8627,  0.7000,  6.0000,  2.0000,  3.0000,  1.0000],\n",
       "         [-2.6200,  2.2461,  0.3500,  6.0000,  1.0000,  3.0000,  2.0000],\n",
       "         [-1.0013,  2.9526,  0.7000,  4.0000,  2.0000,  1.0000,  1.0000],\n",
       "         [ 0.0000,  0.0000,  0.0000,  0.0000,  0.0000,  0.0000,  0.0000],\n",
       "         [ 0.0000,  0.0000,  0.0000,  0.0000,  0.0000,  0.0000,  0.0000]],\n",
       "\n",
       "        [[-1.1363, -0.2567,  0.7000,  2.0000,  1.0000,  2.0000,  1.0000],\n",
       "         [ 1.0704,  0.9271,  0.3500,  4.0000,  2.0000,  3.0000,  2.0000],\n",
       "         [ 1.2051, -0.6514,  0.7000,  1.0000,  1.0000,  3.0000,  1.0000],\n",
       "         [ 2.3078,  2.9967,  0.7000,  8.0000,  1.0000,  1.0000,  1.0000],\n",
       "         [ 2.8005,  0.3110,  0.7000,  2.0000,  2.0000,  2.0000,  1.0000],\n",
       "         [ 2.9801, -2.8405,  0.3500,  3.0000,  2.0000,  2.0000,  2.0000],\n",
       "         [ 0.7621, -2.9981,  0.3500,  3.0000,  2.0000,  2.0000,  2.0000],\n",
       "         [-1.1185, -2.4518,  0.7000,  5.0000,  2.0000,  1.0000,  1.0000],\n",
       "         [ 0.8316,  2.6456,  0.3500,  1.0000,  2.0000,  3.0000,  2.0000],\n",
       "         [-2.1200,  2.9047,  0.3500,  7.0000,  2.0000,  2.0000,  2.0000],\n",
       "         [ 0.0000,  0.0000,  0.0000,  0.0000,  0.0000,  0.0000,  0.0000],\n",
       "         [ 0.0000,  0.0000,  0.0000,  0.0000,  0.0000,  0.0000,  0.0000]],\n",
       "\n",
       "        [[-2.3014,  0.1468,  0.3500,  5.0000,  2.0000,  3.0000,  2.0000],\n",
       "         [ 2.2175,  1.4266,  0.7000,  5.0000,  1.0000,  1.0000,  1.0000],\n",
       "         [ 1.6311, -0.3821,  0.7000,  7.0000,  1.0000,  2.0000,  1.0000],\n",
       "         [-0.9621,  0.4520,  0.3500,  8.0000,  2.0000,  1.0000,  2.0000],\n",
       "         [ 0.0000,  0.0000,  0.0000,  0.0000,  0.0000,  0.0000,  0.0000],\n",
       "         [ 0.0000,  0.0000,  0.0000,  0.0000,  0.0000,  0.0000,  0.0000],\n",
       "         [ 0.0000,  0.0000,  0.0000,  0.0000,  0.0000,  0.0000,  0.0000],\n",
       "         [ 0.0000,  0.0000,  0.0000,  0.0000,  0.0000,  0.0000,  0.0000],\n",
       "         [ 0.0000,  0.0000,  0.0000,  0.0000,  0.0000,  0.0000,  0.0000],\n",
       "         [ 0.0000,  0.0000,  0.0000,  0.0000,  0.0000,  0.0000,  0.0000],\n",
       "         [ 0.0000,  0.0000,  0.0000,  0.0000,  0.0000,  0.0000,  0.0000],\n",
       "         [ 0.0000,  0.0000,  0.0000,  0.0000,  0.0000,  0.0000,  0.0000]]])"
      ]
     },
     "metadata": {},
     "execution_count": 21
    }
   ],
   "source": [
    "img"
   ]
  },
  {
   "cell_type": "code",
   "execution_count": 22,
   "metadata": {},
   "outputs": [
    {
     "output_type": "execute_result",
     "data": {
      "text/plain": [
       "tensor([[ 0,  0,  0,  0,  0,  0,  0,  0,  0,  0,  0,  0,  0, 15, 24, 21, 44, 73,\n",
       "         23, 49,  1, 42, 63,  7, 16, 37],\n",
       "        [ 0,  0,  0,  0,  0,  0,  0,  0,  0,  0,  0,  0,  0, 15, 42, 33, 44,  5,\n",
       "         43, 13, 23,  1,  5,  7, 16, 37],\n",
       "        [15, 14,  8,  7, 56, 31, 18, 35, 53, 27,  8,  7, 20, 19, 26, 59,  8,  7,\n",
       "         51,  8, 50, 52,  8, 31, 10, 37]])"
      ]
     },
     "metadata": {},
     "execution_count": 22
    }
   ],
   "source": [
    "qst"
   ]
  },
  {
   "cell_type": "code",
   "execution_count": 23,
   "metadata": {},
   "outputs": [
    {
     "output_type": "execute_result",
     "data": {
      "text/plain": [
       "tensor([ 5, 24,  6])"
      ]
     },
     "metadata": {},
     "execution_count": 23
    }
   ],
   "source": [
    "label"
   ]
  },
  {
   "cell_type": "code",
   "execution_count": 24,
   "metadata": {},
   "outputs": [],
   "source": [
    "test_stats = pickle.load(open('./test_results/test.pickle', 'rb'))"
   ]
  },
  {
   "cell_type": "code",
   "execution_count": 25,
   "metadata": {},
   "outputs": [
    {
     "output_type": "execute_result",
     "data": {
      "text/plain": [
       "tensor(0.8583, device='cuda:0')"
      ]
     },
     "metadata": {},
     "execution_count": 25
    }
   ],
   "source": [
    "test_stats['global_accuracy']"
   ]
  },
  {
   "cell_type": "code",
   "execution_count": null,
   "metadata": {},
   "outputs": [],
   "source": []
  }
 ],
 "metadata": {
  "kernelspec": {
   "name": "python3810jvsc74a57bd009f52ee7a952467dca892b93373b6309ebb097927f8fd6335fe208f68ffb13f3",
   "display_name": "Python 3.8.10 64-bit ('cs216': conda)"
  },
  "language_info": {
   "codemirror_mode": {
    "name": "ipython",
    "version": 3
   },
   "file_extension": ".py",
   "mimetype": "text/x-python",
   "name": "python",
   "nbconvert_exporter": "python",
   "pygments_lexer": "ipython3",
   "version": "3.8.10"
  }
 },
 "nbformat": 4,
 "nbformat_minor": 2
}